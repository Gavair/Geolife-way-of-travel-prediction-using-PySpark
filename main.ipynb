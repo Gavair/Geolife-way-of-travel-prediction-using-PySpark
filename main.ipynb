{
  "nbformat": 4,
  "nbformat_minor": 0,
  "metadata": {
    "application/vnd.databricks.v1+notebook": {
      "dashboards": [],
      "language": "python",
      "notebookName": "homework3",
      "notebookOrigID": 3259994065783526,
      "widgets": {}
    },
    "colab": {
      "name": "homework3.ipynb",
      "provenance": [],
      "collapsed_sections": [],
      "toc_visible": true
    },
    "kernelspec": {
      "display_name": "Python 3",
      "name": "python3"
    },
    "widgets": {
      "application/vnd.jupyter.widget-state+json": {
        "3ed25702c72d4080b80d466169c73afe": {
          "model_module": "@jupyter-widgets/controls",
          "model_name": "HBoxModel",
          "state": {
            "_dom_classes": [],
            "_model_module": "@jupyter-widgets/controls",
            "_model_module_version": "1.5.0",
            "_model_name": "HBoxModel",
            "_view_count": null,
            "_view_module": "@jupyter-widgets/controls",
            "_view_module_version": "1.5.0",
            "_view_name": "HBoxView",
            "box_style": "",
            "children": [
              "IPY_MODEL_9964a473552a4785a456e56b6b0d1a1a",
              "IPY_MODEL_9f07f169e6e74a11a493a094bde3b1a7"
            ],
            "layout": "IPY_MODEL_2605479995c345059a1f52669931d79f"
          }
        },
        "9964a473552a4785a456e56b6b0d1a1a": {
          "model_module": "@jupyter-widgets/controls",
          "model_name": "FloatProgressModel",
          "state": {
            "_dom_classes": [],
            "_model_module": "@jupyter-widgets/controls",
            "_model_module_version": "1.5.0",
            "_model_name": "FloatProgressModel",
            "_view_count": null,
            "_view_module": "@jupyter-widgets/controls",
            "_view_module_version": "1.5.0",
            "_view_name": "ProgressView",
            "bar_style": "success",
            "description": "100%",
            "description_tooltip": null,
            "layout": "IPY_MODEL_f49a6b7c59814f1fbb4aeb47b373775b",
            "max": 68,
            "min": 0,
            "orientation": "horizontal",
            "style": "IPY_MODEL_9a37e4e3e51e4eb6844cebd5db7b1f3a",
            "value": 68
          }
        },
        "9f07f169e6e74a11a493a094bde3b1a7": {
          "model_module": "@jupyter-widgets/controls",
          "model_name": "HTMLModel",
          "state": {
            "_dom_classes": [],
            "_model_module": "@jupyter-widgets/controls",
            "_model_module_version": "1.5.0",
            "_model_name": "HTMLModel",
            "_view_count": null,
            "_view_module": "@jupyter-widgets/controls",
            "_view_module_version": "1.5.0",
            "_view_name": "HTMLView",
            "description": "",
            "description_tooltip": null,
            "layout": "IPY_MODEL_8ac23c01c4ad411daaecf1d3169df3e5",
            "placeholder": "​",
            "style": "IPY_MODEL_24607359cb9b49baa4281b96c04235e1",
            "value": " 68/68 [17:20&lt;00:00, 15.31s/it]"
          }
        },
        "2605479995c345059a1f52669931d79f": {
          "model_module": "@jupyter-widgets/base",
          "model_name": "LayoutModel",
          "state": {
            "_model_module": "@jupyter-widgets/base",
            "_model_module_version": "1.2.0",
            "_model_name": "LayoutModel",
            "_view_count": null,
            "_view_module": "@jupyter-widgets/base",
            "_view_module_version": "1.2.0",
            "_view_name": "LayoutView",
            "align_content": null,
            "align_items": null,
            "align_self": null,
            "border": null,
            "bottom": null,
            "display": null,
            "flex": null,
            "flex_flow": null,
            "grid_area": null,
            "grid_auto_columns": null,
            "grid_auto_flow": null,
            "grid_auto_rows": null,
            "grid_column": null,
            "grid_gap": null,
            "grid_row": null,
            "grid_template_areas": null,
            "grid_template_columns": null,
            "grid_template_rows": null,
            "height": null,
            "justify_content": null,
            "justify_items": null,
            "left": null,
            "margin": null,
            "max_height": null,
            "max_width": null,
            "min_height": null,
            "min_width": null,
            "object_fit": null,
            "object_position": null,
            "order": null,
            "overflow": null,
            "overflow_x": null,
            "overflow_y": null,
            "padding": null,
            "right": null,
            "top": null,
            "visibility": null,
            "width": null
          }
        },
        "f49a6b7c59814f1fbb4aeb47b373775b": {
          "model_module": "@jupyter-widgets/base",
          "model_name": "LayoutModel",
          "state": {
            "_model_module": "@jupyter-widgets/base",
            "_model_module_version": "1.2.0",
            "_model_name": "LayoutModel",
            "_view_count": null,
            "_view_module": "@jupyter-widgets/base",
            "_view_module_version": "1.2.0",
            "_view_name": "LayoutView",
            "align_content": null,
            "align_items": null,
            "align_self": null,
            "border": null,
            "bottom": null,
            "display": null,
            "flex": null,
            "flex_flow": null,
            "grid_area": null,
            "grid_auto_columns": null,
            "grid_auto_flow": null,
            "grid_auto_rows": null,
            "grid_column": null,
            "grid_gap": null,
            "grid_row": null,
            "grid_template_areas": null,
            "grid_template_columns": null,
            "grid_template_rows": null,
            "height": null,
            "justify_content": null,
            "justify_items": null,
            "left": null,
            "margin": null,
            "max_height": null,
            "max_width": null,
            "min_height": null,
            "min_width": null,
            "object_fit": null,
            "object_position": null,
            "order": null,
            "overflow": null,
            "overflow_x": null,
            "overflow_y": null,
            "padding": null,
            "right": null,
            "top": null,
            "visibility": null,
            "width": null
          }
        },
        "9a37e4e3e51e4eb6844cebd5db7b1f3a": {
          "model_module": "@jupyter-widgets/controls",
          "model_name": "ProgressStyleModel",
          "state": {
            "_model_module": "@jupyter-widgets/controls",
            "_model_module_version": "1.5.0",
            "_model_name": "ProgressStyleModel",
            "_view_count": null,
            "_view_module": "@jupyter-widgets/base",
            "_view_module_version": "1.2.0",
            "_view_name": "StyleView",
            "bar_color": null,
            "description_width": "initial"
          }
        },
        "8ac23c01c4ad411daaecf1d3169df3e5": {
          "model_module": "@jupyter-widgets/base",
          "model_name": "LayoutModel",
          "state": {
            "_model_module": "@jupyter-widgets/base",
            "_model_module_version": "1.2.0",
            "_model_name": "LayoutModel",
            "_view_count": null,
            "_view_module": "@jupyter-widgets/base",
            "_view_module_version": "1.2.0",
            "_view_name": "LayoutView",
            "align_content": null,
            "align_items": null,
            "align_self": null,
            "border": null,
            "bottom": null,
            "display": null,
            "flex": null,
            "flex_flow": null,
            "grid_area": null,
            "grid_auto_columns": null,
            "grid_auto_flow": null,
            "grid_auto_rows": null,
            "grid_column": null,
            "grid_gap": null,
            "grid_row": null,
            "grid_template_areas": null,
            "grid_template_columns": null,
            "grid_template_rows": null,
            "height": null,
            "justify_content": null,
            "justify_items": null,
            "left": null,
            "margin": null,
            "max_height": null,
            "max_width": null,
            "min_height": null,
            "min_width": null,
            "object_fit": null,
            "object_position": null,
            "order": null,
            "overflow": null,
            "overflow_x": null,
            "overflow_y": null,
            "padding": null,
            "right": null,
            "top": null,
            "visibility": null,
            "width": null
          }
        },
        "24607359cb9b49baa4281b96c04235e1": {
          "model_module": "@jupyter-widgets/controls",
          "model_name": "DescriptionStyleModel",
          "state": {
            "_model_module": "@jupyter-widgets/controls",
            "_model_module_version": "1.5.0",
            "_model_name": "DescriptionStyleModel",
            "_view_count": null,
            "_view_module": "@jupyter-widgets/base",
            "_view_module_version": "1.2.0",
            "_view_name": "StyleView",
            "description_width": ""
          }
        }
      }
    }
  },
  "cells": [
    {
      "cell_type": "markdown",
      "metadata": {
        "id": "C62-DI8eTXX1"
      },
      "source": [
        "# This notebook was done by Taras Semenchenko\n",
        "\n",
        "To run this notebook I used Google Colaboratory.\n"
      ]
    },
    {
      "cell_type": "markdown",
      "metadata": {
        "id": "OMIuMJ_MObIs"
      },
      "source": [
        "# Preparing data\n",
        "\n",
        "To load data I used google drive, however dataset can be loaded without it."
      ]
    },
    {
      "cell_type": "code",
      "metadata": {
        "colab": {
          "base_uri": "https://localhost:8080/"
        },
        "id": "QDWk3yX2BsAH",
        "outputId": "906ceb4c-65cf-404a-b91f-2374fd40f7bb"
      },
      "source": [
        "from google.colab import drive, files\n",
        "drive.mount('/content/drive/')"
      ],
      "execution_count": null,
      "outputs": [
        {
          "output_type": "stream",
          "text": [
            "Mounted at /content/drive/\n"
          ],
          "name": "stdout"
        }
      ]
    },
    {
      "cell_type": "code",
      "metadata": {
        "id": "gs9vnrlqG2OP"
      },
      "source": [
        "!sudo apt-get install unzip\n",
        "!unzip 'drive/MyDrive/kyivstar/Geolife Trajectories 1.3.zip' -d 'geolife'"
      ],
      "execution_count": null,
      "outputs": []
    },
    {
      "cell_type": "markdown",
      "metadata": {
        "id": "0x-rZ3woPCju"
      },
      "source": [
        "Loading pyspark library."
      ]
    },
    {
      "cell_type": "code",
      "metadata": {
        "id": "0mhktjIbJOJf"
      },
      "source": [
        "# --- pyspark configuration ---\n",
        "\n",
        "!apt-get install openjdk-8-jdk-headless -qq > /dev/null\n",
        "!wget -q https://downloads.apache.org/spark/spark-3.0.1/spark-3.0.1-bin-hadoop3.2.tgz\n",
        "!tar -xvf spark-3.0.1-bin-hadoop3.2.tgz\n",
        "!pip install -q findspark\n",
        "import os\n",
        "os.environ[\"JAVA_HOME\"] = \"/usr/lib/jvm/java-8-openjdk-amd64\"\n",
        "os.environ[\"SPARK_HOME\"] = \"/content/spark-3.0.1-bin-hadoop3.2\"\n",
        "import findspark\n",
        "findspark.init()\n",
        "\n",
        "# --- end of configuration ---"
      ],
      "execution_count": null,
      "outputs": []
    },
    {
      "cell_type": "code",
      "metadata": {
        "id": "j1WMt1kakK1Z"
      },
      "source": [
        "from pyspark.sql.types import *\n",
        "from pyspark.sql.functions import *\n",
        "from pyspark.sql import Row\n",
        "\n",
        "from pyspark.context import SparkContext\n",
        "from pyspark.sql.session import SparkSession\n",
        "sc = SparkContext('local')\n",
        "spark = SparkSession(sc)\n",
        "\n",
        "from datetime import datetime"
      ],
      "execution_count": null,
      "outputs": []
    },
    {
      "cell_type": "markdown",
      "metadata": {
        "id": "lXFsW3u1PM1v"
      },
      "source": [
        "In the cell below the function, that loads all .plt files and labels.txt from specific directory `path` and creates 2 dataframes.\n",
        "After loading data, it converts time to the unix_timestamp and performs `inner join` to add labels to the .plt data (It also leaves only data that contains labels).\n"
      ]
    },
    {
      "cell_type": "code",
      "metadata": {
        "id": "hwmdR5fnoJuL"
      },
      "source": [
        "def folder_to_dataframe(path):\n",
        "  file_location = path + '/Trajectory/*.plt'\n",
        "  file_type = \"csv\"\n",
        "\n",
        "  customSchema = StructType([\n",
        "      StructField(\"latitude\",    DoubleType(),  True),        \n",
        "      StructField(\"longitude\",   DoubleType(),  True),\n",
        "      StructField(\"zeros\",       IntegerType(), True),\n",
        "      StructField(\"altitude\",    DoubleType(),  True),\n",
        "      StructField(\"num_of_days\", DoubleType(),  True),\n",
        "      StructField(\"date\",        StringType(),  True),\n",
        "      StructField(\"time\",        StringType(),  True)\n",
        "  ])\n",
        "\n",
        "  df = spark.read.format(file_type) \\\n",
        "    .option('mode',        'DROPMALFORMED') \\\n",
        "    .option('inferSchema', 'true') \\\n",
        "    .option('header',      'false') \\\n",
        "    .option('sep',         ',') \\\n",
        "    .schema(customSchema) \\\n",
        "    .load(file_location)\n",
        "    \n",
        "  df_with_labels = df.withColumn(\"date_time\", concat(col('date'), lit(' '), col('time')))\n",
        "  df_unix_time = df_with_labels.withColumn(\"unix_time\", unix_timestamp('date_time', 'yyyy-MM-dd HH:mm:ss'))\n",
        "\n",
        "  file_location = path + \"/labels.txt\"\n",
        "  file_type = \"csv\"\n",
        "\n",
        "  customSchema = StructType([\n",
        "      StructField(\"Start time\",          StringType(), True),        \n",
        "      StructField(\"End time\",            StringType(), True),\n",
        "      StructField(\"Transportation Mode\", StringType(), True)\n",
        "  ])\n",
        "\n",
        "  df_labels = spark.read.format(file_type) \\\n",
        "    .option('inferSchema', 'true') \\\n",
        "    .option('header',      'true') \\\n",
        "    .option('sep',         '\\t') \\\n",
        "    .schema(customSchema) \\\n",
        "    .load(file_location)\n",
        "\n",
        "  df_labels_unix_time = df_labels.withColumn(\"unix_start\", unix_timestamp('Start time', 'yyyy/MM/dd HH:mm:ss'))\n",
        "  df_labels_unix_time = df_labels_unix_time.withColumn(\"unix_end\", unix_timestamp('End time', 'yyyy/MM/dd HH:mm:ss'))\n",
        "\n",
        "  df_with_labels = df_unix_time.join(df_labels_unix_time, \n",
        "          (df_labels_unix_time['unix_start'] <= df_unix_time['unix_time']) & \n",
        "          (df_unix_time['unix_time'] <= df_labels_unix_time['unix_end']), how='inner') \\\n",
        "    .select('latitude', 'longitude', 'zeros', 'altitude', 'num_of_days', 'date', 'time', 'date_time', 'Transportation Mode')\n",
        "  \n",
        "  df_with_labels = df_with_labels.withColumn(\"id\", lit(path[-3:]))\n",
        "\n",
        "  return df_with_labels"
      ],
      "execution_count": null,
      "outputs": []
    },
    {
      "cell_type": "markdown",
      "metadata": {
        "id": "0XqIJY95PhGz"
      },
      "source": [
        "Looking for folders that contain labels.txt."
      ]
    },
    {
      "cell_type": "code",
      "metadata": {
        "id": "-MrUaXXEuG1G"
      },
      "source": [
        "import os\n",
        "\n",
        "paths_with_labels = list()\n",
        "\n",
        "for folder in os.listdir('geolife/Geolife Trajectories 1.3/Data'):\n",
        "  if os.path.exists('geolife/Geolife Trajectories 1.3/Data/' + folder + '/labels.txt'):\n",
        "    paths_with_labels += ['geolife/Geolife Trajectories 1.3/Data/' + folder]"
      ],
      "execution_count": null,
      "outputs": []
    },
    {
      "cell_type": "markdown",
      "metadata": {
        "id": "mdDJ321mQ59d"
      },
      "source": [
        "Concatenation all dataframes that returns previous function."
      ]
    },
    {
      "cell_type": "code",
      "metadata": {
        "colab": {
          "base_uri": "https://localhost:8080/",
          "height": 66,
          "referenced_widgets": [
            "3ed25702c72d4080b80d466169c73afe",
            "9964a473552a4785a456e56b6b0d1a1a",
            "9f07f169e6e74a11a493a094bde3b1a7",
            "2605479995c345059a1f52669931d79f",
            "f49a6b7c59814f1fbb4aeb47b373775b",
            "9a37e4e3e51e4eb6844cebd5db7b1f3a",
            "8ac23c01c4ad411daaecf1d3169df3e5",
            "24607359cb9b49baa4281b96c04235e1"
          ]
        },
        "id": "IKWnj0-6udph",
        "outputId": "87aa1364-485d-498f-9a9b-a298162db29f"
      },
      "source": [
        "from tqdm.notebook import tqdm\n",
        "full_df = folder_to_dataframe(paths_with_labels[0])\n",
        "\n",
        "for path in tqdm(paths_with_labels[1:]):\n",
        "  d = folder_to_dataframe(path)\n",
        "  full_df = full_df.union(d)"
      ],
      "execution_count": null,
      "outputs": [
        {
          "output_type": "display_data",
          "data": {
            "application/vnd.jupyter.widget-view+json": {
              "model_id": "3ed25702c72d4080b80d466169c73afe",
              "version_major": 2,
              "version_minor": 0
            },
            "text/plain": [
              "HBox(children=(FloatProgress(value=0.0, max=68.0), HTML(value='')))"
            ]
          },
          "metadata": {
            "tags": []
          }
        },
        {
          "output_type": "stream",
          "text": [
            "\n"
          ],
          "name": "stdout"
        }
      ]
    },
    {
      "cell_type": "markdown",
      "metadata": {
        "id": "dL3TO3fRRTfl"
      },
      "source": [
        "Saving dataframe as .parquet to perform faster operations (it may take 15 minutes)."
      ]
    },
    {
      "cell_type": "code",
      "metadata": {
        "id": "PvaX4vyK3HoO"
      },
      "source": [
        "# parquet format requires names without space\n",
        "full_df = full_df.withColumnRenamed(\"Transportation Mode\", \"transportation_mode\")\n",
        "full_df.write.parquet(\"structured_geolife.parquet\")"
      ],
      "execution_count": null,
      "outputs": []
    },
    {
      "cell_type": "markdown",
      "metadata": {
        "id": "fJFUZ5luwvk0"
      },
      "source": [
        "Loading data and showing the table:"
      ]
    },
    {
      "cell_type": "code",
      "metadata": {
        "colab": {
          "base_uri": "https://localhost:8080/"
        },
        "id": "N2xp4iUF87OK",
        "outputId": "46f2c793-842a-4e55-df4c-3515dd96ec53"
      },
      "source": [
        "df = spark.read.parquet(\"structured_geolife.parquet\")\n",
        "df.show()"
      ],
      "execution_count": null,
      "outputs": [
        {
          "output_type": "stream",
          "text": [
            "+---------+----------+-----+--------+----------------+----------+--------+-------------------+-------------------+---+\n",
            "| latitude| longitude|zeros|altitude|     num_of_days|      date|    time|          date_time|transportation_mode| id|\n",
            "+---------+----------+-----+--------+----------------+----------+--------+-------------------+-------------------+---+\n",
            "|37.936471|114.500004|    0|   207.0|39719.6666666667|2008-09-28|16:00:00|2008-09-28 16:00:00|              train|010|\n",
            "|37.936084|114.500086|    0|   207.0|39719.6666782407|2008-09-28|16:00:01|2008-09-28 16:00:01|              train|010|\n",
            "|37.935304|114.500256|    0|   210.0|39719.6667013889|2008-09-28|16:00:03|2008-09-28 16:00:03|              train|010|\n",
            "|37.934926|114.500368|    0|   207.0| 39719.666712963|2008-09-28|16:00:04|2008-09-28 16:00:04|              train|010|\n",
            "|37.934543|114.500456|    0|   207.0| 39719.666724537|2008-09-28|16:00:05|2008-09-28 16:00:05|              train|010|\n",
            "|37.934156|114.500543|    0|   207.0|39719.6667361111|2008-09-28|16:00:06|2008-09-28 16:00:06|              train|010|\n",
            "|37.933768|114.500628|    0|   207.0|39719.6667476852|2008-09-28|16:00:07|2008-09-28 16:00:07|              train|010|\n",
            "|37.933376|114.500714|    0|   203.0|39719.6667592593|2008-09-28|16:00:08|2008-09-28 16:00:08|              train|010|\n",
            "|37.932994|114.500801|    0|   203.0|39719.6667708333|2008-09-28|16:00:09|2008-09-28 16:00:09|              train|010|\n",
            "|37.932615|114.500883|    0|   207.0|39719.6667824074|2008-09-28|16:00:10|2008-09-28 16:00:10|              train|010|\n",
            "|37.932228|114.500971|    0|   200.0|39719.6667939815|2008-09-28|16:00:11|2008-09-28 16:00:11|              train|010|\n",
            "|37.931458|114.501141|    0|   197.0|39719.6668171296|2008-09-28|16:00:13|2008-09-28 16:00:13|              train|010|\n",
            "|37.931071|114.501226|    0|   197.0|39719.6668287037|2008-09-28|16:00:14|2008-09-28 16:00:14|              train|010|\n",
            "|37.930693|114.501313|    0|   197.0|39719.6668402778|2008-09-28|16:00:15|2008-09-28 16:00:15|              train|010|\n",
            "|37.930306|114.501403|    0|   197.0|39719.6668518518|2008-09-28|16:00:16|2008-09-28 16:00:16|              train|010|\n",
            "|37.929926|114.501496|    0|   200.0|39719.6668634259|2008-09-28|16:00:17|2008-09-28 16:00:17|              train|010|\n",
            "| 37.92954|114.501586|    0|   200.0|    39719.666875|2008-09-28|16:00:18|2008-09-28 16:00:18|              train|010|\n",
            "|37.929161|114.501679|    0|   203.0|39719.6668865741|2008-09-28|16:00:19|2008-09-28 16:00:19|              train|010|\n",
            "|37.928776|114.501765|    0|   203.0|39719.6668981481|2008-09-28|16:00:20|2008-09-28 16:00:20|              train|010|\n",
            "|37.928378|114.501855|    0|   200.0|39719.6669097222|2008-09-28|16:00:21|2008-09-28 16:00:21|              train|010|\n",
            "+---------+----------+-----+--------+----------------+----------+--------+-------------------+-------------------+---+\n",
            "only showing top 20 rows\n",
            "\n"
          ],
          "name": "stdout"
        }
      ]
    },
    {
      "cell_type": "code",
      "metadata": {
        "colab": {
          "base_uri": "https://localhost:8080/"
        },
        "id": "yegMfSrUfg9s",
        "outputId": "38f24709-6754-4a53-c975-052744e46a1e"
      },
      "source": [
        "df.count()"
      ],
      "execution_count": 116,
      "outputs": [
        {
          "output_type": "execute_result",
          "data": {
            "text/plain": [
              "5509013"
            ]
          },
          "metadata": {
            "tags": []
          },
          "execution_count": 116
        }
      ]
    },
    {
      "cell_type": "markdown",
      "metadata": {
        "id": "T_XE2zmtw7KO"
      },
      "source": [
        "Distribution of classes:"
      ]
    },
    {
      "cell_type": "code",
      "metadata": {
        "colab": {
          "base_uri": "https://localhost:8080/",
          "height": 390
        },
        "id": "G5EfxLt5RsqX",
        "outputId": "3390a9c1-4ab8-4ed3-e38d-124bec20e261"
      },
      "source": [
        "import numpy as np\n",
        "import matplotlib.pyplot as plt\n",
        "import seaborn as sns\n",
        "sns.set_theme(style=\"darkgrid\")\n",
        "\n",
        "label_counts = df.groupBy('transportation_mode').count().collect()\n",
        "labels = [row['transportation_mode'] for row in label_counts]\n",
        "counts = [row['count'] for row in label_counts]\n",
        "\n",
        "plt.figure(figsize=(10, 6))\n",
        "sns.barplot(x=counts, y=labels);"
      ],
      "execution_count": 64,
      "outputs": [
        {
          "output_type": "display_data",
          "data": {
            "image/png": "[encoded data removed]",
            "text/plain": [
              "<Figure size 720x432 with 1 Axes>"
            ]
          },
          "metadata": {
            "tags": []
          }
        }
      ]
    },
    {
      "cell_type": "markdown",
      "metadata": {
        "id": "bwyOd2oLxEUt"
      },
      "source": [
        "# Feature extraction\n",
        "\n",
        "I added the following features:\n",
        "- hour - current hour (0 - 23)\n",
        "- weekday - day of the week ('Mon', 'Tue', etc)\n",
        "- day - day of the month (0 - 30)\n",
        "- month - number of month (0 - 11)\n",
        "- latitude_lag_5 - difference between current latitude and latitude 5 time-stamped points ago.\n",
        "- longitude_lag_5 - difference between current longitude and longitude 5 time-stamped points ago.\n",
        "- unix_time_lag_5 - difference between current unix_time and unix_time 5 time-stamped points ago.\n",
        "- distance_lag_5 - distance that a person covered in 5 time-stamped points.\n",
        "- speed_lag_5 - speed of the person, which equal to distance_lag_5 / unix_time_lag_5."
      ]
    },
    {
      "cell_type": "code",
      "metadata": {
        "id": "IWj9ULBhVyrT"
      },
      "source": [
        "processed_df = df.withColumn(\"id\", df[\"id\"].cast(IntegerType()))\n",
        "processed_df = processed_df.withColumn('unix_time', unix_timestamp(col('date_time')))\n",
        "\n",
        "processed_df = processed_df.withColumn('hour', date_format('date_time', 'H').cast(IntegerType()))\n",
        "processed_df = processed_df.withColumn('weekday', date_format('date_time', 'E'))\n",
        "processed_df = processed_df.withColumn('day', date_format('date_time', 'd').cast(IntegerType()))\n",
        "processed_df = processed_df.withColumn('month', month('date_time').cast(IntegerType()))"
      ],
      "execution_count": 97,
      "outputs": []
    },
    {
      "cell_type": "markdown",
      "metadata": {
        "id": "AEacq0oHmiuL"
      },
      "source": [
        "I chose the size of the time window equal to 5, as I think that  to accurately calculate the speed should pass at least 5 seconds"
      ]
    },
    {
      "cell_type": "code",
      "metadata": {
        "id": "hjV1j7-IWOGh"
      },
      "source": [
        "from pyspark.sql.window import Window\n",
        "windowSpec  = Window.partitionBy(\"id\").orderBy(\"unix_time\")\n",
        "\n",
        "processed_df = processed_df.withColumn(\"latitude_lag_5\", col('latitude') - lag(\"latitude\", 5).over(windowSpec))\n",
        "processed_df = processed_df.withColumn(\"longitude_lag_5\", col('longitude') - lag(\"longitude\", 5).over(windowSpec))\n",
        "processed_df = processed_df.withColumn(\"unix_time_lag_5\", col('unix_time') - lag(\"unix_time\", 5).over(windowSpec))\n",
        "\n",
        "processed_df = processed_df.withColumn(\"distance_lag_5\", sqrt(col('latitude_lag_5') ** 2 + col('longitude_lag_5') ** 2))\n",
        "processed_df = processed_df.withColumn(\"speed_lag_5\", col('distance_lag_5') / col('unix_time_lag_5'))"
      ],
      "execution_count": 98,
      "outputs": []
    },
    {
      "cell_type": "markdown",
      "metadata": {
        "id": "qVbCS9sY90q7"
      },
      "source": [
        "To handle missing values I filled it with value -999999. (Random Forest work with it well)"
      ]
    },
    {
      "cell_type": "code",
      "metadata": {
        "id": "bwvOvpgHWQia"
      },
      "source": [
        "processed_df = processed_df.fillna({\n",
        "    'latitude_lag_5': -999999, \n",
        "    'longitude_lag_5': -999999, \n",
        "    'unix_time_lag_5': -999999, \n",
        "    'distance_lag_5': -999999, \n",
        "    'speed_lag_5': -999999,\n",
        "})"
      ],
      "execution_count": 99,
      "outputs": []
    },
    {
      "cell_type": "code",
      "metadata": {
        "id": "2neH0UMhWTnS"
      },
      "source": [
        "num_features = [\n",
        "  'id', \n",
        "  'latitude', \n",
        "  'longitude', \n",
        "  'altitude', \n",
        "  'unix_time', \n",
        "  'hour', \n",
        "  'day',\n",
        "  'month',\n",
        "  'latitude_lag_5',\n",
        "  'longitude_lag_5',\n",
        "  'unix_time_lag_5',\n",
        "  'distance_lag_5',\n",
        "  'speed_lag_5',\n",
        "]\n",
        "cat_features = ['weekday']\n",
        "label = 'transportation_mode'\n",
        "\n",
        "processed_df = processed_df.select(num_features + cat_features + [label])"
      ],
      "execution_count": 100,
      "outputs": []
    },
    {
      "cell_type": "code",
      "metadata": {
        "colab": {
          "base_uri": "https://localhost:8080/"
        },
        "id": "9tOhGL9iWVpJ",
        "outputId": "0ff9f8bd-fb1a-4b8c-c83e-d57274b18049"
      },
      "source": [
        "processed_df.show()"
      ],
      "execution_count": 101,
      "outputs": [
        {
          "output_type": "stream",
          "text": [
            "+---+---------+----------+--------+----------+----+---+-----+--------------------+--------------------+---------------+--------------------+--------------------+-------+-------------------+\n",
            "| id| latitude| longitude|altitude| unix_time|hour|day|month|      latitude_lag_5|     longitude_lag_5|unix_time_lag_5|      distance_lag_5|         speed_lag_5|weekday|transportation_mode|\n",
            "+---+---------+----------+--------+----------+----+---+-----+--------------------+--------------------+---------------+--------------------+--------------------+-------+-------------------+\n",
            "| 85|39.982136|116.327761|   491.0|1209601058|   0|  1|    5|           -999999.0|           -999999.0|        -999999|           -999999.0|           -999999.0|    Thu|               walk|\n",
            "| 85|39.982165|116.327805|   492.0|1209601063|   0|  1|    5|           -999999.0|           -999999.0|        -999999|           -999999.0|           -999999.0|    Thu|               walk|\n",
            "| 85|39.982182|116.327882|   492.0|1209601068|   0|  1|    5|           -999999.0|           -999999.0|        -999999|           -999999.0|           -999999.0|    Thu|               walk|\n",
            "| 85|39.982175|116.327899|   492.0|1209601073|   0|  1|    5|           -999999.0|           -999999.0|        -999999|           -999999.0|           -999999.0|    Thu|               walk|\n",
            "| 85|39.982221|116.327856|   491.0|1209601078|   0|  1|    5|           -999999.0|           -999999.0|        -999999|           -999999.0|           -999999.0|    Thu|               walk|\n",
            "| 85|39.982276|116.327763|   491.0|1209601083|   0|  1|    5|1.400000000018053...| 2.00000000916134E-6|             25|1.400142849874331...|5.600571399497325...|    Thu|               walk|\n",
            "| 85|39.982283|116.327711|   491.0|1209601088|   0|  1|    5|1.180000000005065...|-9.40000000042573...|             25|1.508641773282177...|6.034567093128711E-6|    Thu|               walk|\n",
            "| 85|39.982323|116.327676|   491.0|1209601093|   0|  1|    5|1.409999999992806E-4|-2.06000000005701...|             25|2.496337316993563E-4|9.985349267974251E-6|    Thu|               walk|\n",
            "| 85|39.982365|116.327628|   491.0|1209601098|   0|  1|    5|1.900000000034651...|-2.70999999997911...|             25|3.309697871410394...|1.323879148564157...|    Thu|               walk|\n",
            "| 85|39.982388|116.327628|   491.0|1209601103|   0|  1|    5|1.669999999975857...|-2.27999999992789...|             25|2.826181168925758...|1.130472467570303...|    Thu|               walk|\n",
            "| 85|39.982388|116.327628|   491.0|1209601106|   0|  1|    5|1.120000000014442...|-1.35000000000218...|             23|1.754109460677481...| 7.62656287251079E-6|    Thu|               walk|\n",
            "| 85|39.982394|116.327636|   491.0|1209601108|   0|  1|    5|1.109999999968636...|-7.49999999953843...|             20|1.339626813654137...|6.698134068270687E-6|    Thu|               walk|\n",
            "| 85|39.982062|116.327163|   277.0|1209601113|   0|  1|    5|-2.61000000001843...|-5.12999999997987...|             20|5.755779703905433E-4|2.877889851952716...|    Thu|               walk|\n",
            "| 85|39.982024|116.327164|   255.0|1209601118|   0|  1|    5|-3.40999999998814...|-4.64000000008013...|             20| 5.75827231039509E-4|2.879136155197545E-5|    Thu|               walk|\n",
            "| 85|39.981994|116.327183|   230.0|1209601123|   0|  1|    5|-3.94000000000005...|-4.44999999999140...|             20|5.943576364439506E-4|2.971788182219753E-5|    Thu|               walk|\n",
            "| 85|39.981928|116.327182|   221.0|1209601128|   0|  1|    5|-4.59999999996796...|-4.46000000010826...|             22| 6.40715225358903E-4|2.912341933449559...|    Thu|               walk|\n",
            "| 85|39.981978|116.327195|   231.0|1209601133|   0|  1|    5|-4.16000000001304...|-4.40999999995028...|             25|6.062482989639645E-4|2.424993195855857...|    Thu|               walk|\n",
            "| 85|39.981989|116.327202|   233.0|1209601138|   0|  1|    5|-7.30000000004338...|3.900000000101045E-5|             25|8.276472678709303E-5|3.310589071483721E-6|    Thu|               walk|\n",
            "| 85|39.981986|116.327199|   233.0|1209601143|   0|  1|    5|-3.80000000035352...|3.499999999689862E-5|             25|5.166236541285716E-5|2.066494616514286E-6|    Thu|               walk|\n",
            "| 85|39.981989|116.327198|   233.0|1209601148|   0|  1|    5|-5.00000000158706...|1.499999999055035E-5|             25|1.581138829237904...|6.324555316951619E-7|    Thu|               walk|\n",
            "+---+---------+----------+--------+----------+----+---+-----+--------------------+--------------------+---------------+--------------------+--------------------+-------+-------------------+\n",
            "only showing top 20 rows\n",
            "\n"
          ],
          "name": "stdout"
        }
      ]
    },
    {
      "cell_type": "markdown",
      "metadata": {
        "id": "FzQg0jIlKoUA"
      },
      "source": [
        "# Training the model"
      ]
    },
    {
      "cell_type": "markdown",
      "metadata": {
        "id": "HTzYV9tK4XKY"
      },
      "source": [
        "To split the data into train and test subsets I performed stratified split that divides data by different people with fraction of train data 0.8."
      ]
    },
    {
      "cell_type": "code",
      "metadata": {
        "colab": {
          "base_uri": "https://localhost:8080/"
        },
        "id": "GzwFagmfWYMh",
        "outputId": "3b154570-f3d6-4e2b-d84f-deda213ca75a"
      },
      "source": [
        "import random\n",
        "\n",
        "ids = list(map(lambda x: x.id, processed_df.select(\"id\").distinct().collect()))\n",
        "random.shuffle(ids)\n",
        "\n",
        "train_fract = 0.8\n",
        "train_ids = ids[:int(len(ids) * train_fract)]\n",
        "test_ids = ids[int(len(ids) * train_fract):]\n",
        "\n",
        "print(train_ids)\n",
        "print(test_ids)\n",
        "\n",
        "train_df = processed_df.select('*').filter(processed_df.id.isin(train_ids))\n",
        "test_df = processed_df.select('*').filter(processed_df.id.isin(test_ids))"
      ],
      "execution_count": 108,
      "outputs": [
        {
          "output_type": "stream",
          "text": [
            "[56, 128, 78, 87, 81, 104, 179, 138, 161, 73, 84, 20, 64, 96, 111, 86, 105, 89, 62, 163, 98, 174, 67, 141, 144, 80, 75, 175, 97, 129, 53, 114, 85, 108, 92, 101, 139, 125, 153, 107, 60, 68, 100, 126, 115, 167, 52, 69, 170, 154, 82]\n",
            "[58, 91, 76, 106, 147, 110, 136, 21, 10, 117, 65, 112, 102]\n"
          ],
          "name": "stdout"
        }
      ]
    },
    {
      "cell_type": "markdown",
      "metadata": {
        "id": "qAJWG_B76AZ8"
      },
      "source": [
        "Tokenizing categorical features and labels."
      ]
    },
    {
      "cell_type": "code",
      "metadata": {
        "id": "3Vq1pi6pWbjU"
      },
      "source": [
        "from pyspark.ml.feature import StringIndexer, OneHotEncoder\n",
        "\n",
        "categoricalCols = cat_features\n",
        "\n",
        "feature_encoder = StringIndexer(inputCols=categoricalCols, outputCols=[col + '_encoded' for col in categoricalCols])\n",
        "label_encoder = StringIndexer(inputCol=label, outputCol=\"label\")"
      ],
      "execution_count": 109,
      "outputs": []
    },
    {
      "cell_type": "markdown",
      "metadata": {
        "id": "jWAtmvle66J6"
      },
      "source": [
        "Combining numerical and categorical features within `VectorAssembler`."
      ]
    },
    {
      "cell_type": "code",
      "metadata": {
        "id": "NgXaE96oWdIG"
      },
      "source": [
        "from pyspark.ml.feature import VectorAssembler\n",
        "\n",
        "numericCols = num_features[1:]\n",
        "assemblerInputs = [col + \"_encoded\" for col in categoricalCols] + numericCols #+ ['binned_latitude', 'binned_longitude']\n",
        "vecAssembler = VectorAssembler(inputCols=assemblerInputs, outputCol=\"features\")"
      ],
      "execution_count": 110,
      "outputs": []
    },
    {
      "cell_type": "markdown",
      "metadata": {
        "id": "CYM36PYy7Zog"
      },
      "source": [
        "Initializing Random Forest model."
      ]
    },
    {
      "cell_type": "code",
      "metadata": {
        "id": "6DOLOZNYWfWo"
      },
      "source": [
        "from pyspark.ml.classification import RandomForestClassifier\n",
        "\n",
        "rf = RandomForestClassifier(featuresCol=\"features\", labelCol=\"label\", maxDepth=5)"
      ],
      "execution_count": 111,
      "outputs": []
    },
    {
      "cell_type": "markdown",
      "metadata": {
        "id": "-6uGS2Ju7eCU"
      },
      "source": [
        "Defining pipeline and training the model."
      ]
    },
    {
      "cell_type": "code",
      "metadata": {
        "id": "K1YNBreyWi71"
      },
      "source": [
        "from pyspark.ml import Pipeline\n",
        "\n",
        "pipeline = Pipeline(stages=[feature_encoder, label_encoder, vecAssembler, rf])\n",
        "pipelineModel = pipeline.fit(train_df)\n",
        "pred_df = pipelineModel.transform(test_df)"
      ],
      "execution_count": 112,
      "outputs": []
    },
    {
      "cell_type": "markdown",
      "metadata": {
        "id": "Fhu7uKnI_1lb"
      },
      "source": [
        "Evaluating the model with Accuracy and F1 score."
      ]
    },
    {
      "cell_type": "code",
      "metadata": {
        "id": "lcDFLLp_Wk2S",
        "colab": {
          "base_uri": "https://localhost:8080/"
        },
        "outputId": "52e83933-c52f-4b7c-ed6a-99dc9414dbc8"
      },
      "source": [
        "from pyspark.ml.evaluation import MulticlassClassificationEvaluator\n",
        "\n",
        "accuracy_evaluator = MulticlassClassificationEvaluator(metricName=\"accuracy\")\n",
        "print(f\"Accuracy: {accuracy_evaluator.evaluate(pred_df)}\")\n",
        "\n",
        "f1_evaluator = MulticlassClassificationEvaluator(metricName=\"f1\")\n",
        "print(f\"F1 score: {f1_evaluator.evaluate(pred_df)}\")"
      ],
      "execution_count": 113,
      "outputs": [
        {
          "output_type": "stream",
          "text": [
            "Accuracy: 0.427103060647957\n",
            "F1 score: 0.40342660794949375\n"
          ],
          "name": "stdout"
        }
      ]
    },
    {
      "cell_type": "markdown",
      "metadata": {
        "id": "X1WOpAFVC-HK"
      },
      "source": [
        "Model accuracy ranges from 30 to 60 percent (45% on average). This happens because the test set is often not representative and train-test sets have huge imbalance in classes."
      ]
    },
    {
      "cell_type": "markdown",
      "metadata": {
        "id": "Z0Li6lHE8A2P"
      },
      "source": [
        "Feature Importance:\n",
        "\n"
      ]
    },
    {
      "cell_type": "code",
      "metadata": {
        "id": "yyQOep9mWpbT",
        "colab": {
          "base_uri": "https://localhost:8080/",
          "height": 594
        },
        "outputId": "c3b56603-abd9-4ea1-dc32-700097821e22"
      },
      "source": [
        "plt.figure(figsize=(16, 10))\n",
        "tree = pipelineModel.stages[-1]\n",
        "sns.barplot(x=list(tree.featureImportances), y=assemblerInputs);"
      ],
      "execution_count": 114,
      "outputs": [
        {
          "output_type": "display_data",
          "data": {
            "image/png": "[encoded data removed]",
            "text/plain": [
              "<Figure size 1152x720 with 1 Axes>"
            ]
          },
          "metadata": {
            "tags": []
          }
        }
      ]
    },
    {
      "cell_type": "markdown",
      "metadata": {
        "id": "TbzpwYF6G8CK"
      },
      "source": [
        "And with the help of confusion matrix we can see which mistakes makes model in predictions:"
      ]
    },
    {
      "cell_type": "code",
      "metadata": {
        "id": "SYMHdBwYWuPf",
        "colab": {
          "base_uri": "https://localhost:8080/",
          "height": 485
        },
        "outputId": "2642eea6-1f55-440a-efbb-a2520d740d09"
      },
      "source": [
        "from pyspark.ml.feature import StringIndexer, StringIndexerModel\n",
        "import numpy as np\n",
        "\n",
        "labels = {x._java_obj.getOutputCol(): x.labels \n",
        "  for x in pipelineModel.stages \n",
        "  if isinstance(x, StringIndexerModel)}['label']\n",
        "\n",
        "nums = len(labels)\n",
        "index_to_num = dict(zip(range(nums), labels))\n",
        "\n",
        "confusion_matrix = np.zeros((nums, nums))\n",
        "\n",
        "errors = pred_df.groupBy(col('label'), col('prediction')).count().collect()\n",
        "for error in errors:\n",
        "  confusion_matrix[int(error['label']), int(error['prediction'])] = error['count']\n",
        "\n",
        "plt.figure(figsize=(12, 8))\n",
        "ax = sns.heatmap(confusion_matrix, xticklabels=labels, yticklabels=labels);"
      ],
      "execution_count": 115,
      "outputs": [
        {
          "output_type": "display_data",
          "data": {
            "image/png": "[encoded data removed]",
            "text/plain": [
              "<Figure size 864x576 with 2 Axes>"
            ]
          },
          "metadata": {
            "tags": []
          }
        }
      ]
    },
    {
      "cell_type": "markdown",
      "metadata": {
        "id": "yoQzzscvHOgW"
      },
      "source": [
        "# Final thoughts\n",
        "\n",
        "On average I got 45% accuracy and I don't think it is good result.\n",
        "\n",
        "I think it is due to the complexity of finding the difference in movement between car, bus, taxi or train. Also different people had different GPS navigators, which made additional difficulties.\n",
        "\n",
        "Also I wanted to show entire feature list that I tried:\n",
        "- Binned latitude/longitude - useless with Random Forest model.\n",
        "- Acceleration - almost zero in feature importance.\n",
        "- Features with lag 10 - Could not add more features with lag because my environment broke.\n",
        "- Different aggregation functions - almost no changes, but the model trained much longer.\n",
        "- City where people live - no improvement.\n",
        "\n",
        "\n",
        "\n"
      ]
    }
  ]
}
